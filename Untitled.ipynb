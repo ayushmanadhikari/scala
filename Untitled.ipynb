{
 "cells": [
  {
   "cell_type": "code",
   "execution_count": 1,
   "id": "e727125d-13f2-42b8-be25-dbb15226831f",
   "metadata": {},
   "outputs": [
    {
     "data": {
      "text/plain": [
       "Intitializing Scala interpreter ..."
      ]
     },
     "metadata": {},
     "output_type": "display_data"
    },
    {
     "data": {
      "text/plain": [
       "Spark Web UI available at http://192.168.1.70:4040\n",
       "SparkContext available as 'sc' (version = 3.2.1, master = local[*], app id = local-1647011835140)\n",
       "SparkSession available as 'spark'\n"
      ]
     },
     "metadata": {},
     "output_type": "display_data"
    },
    {
     "name": "stdout",
     "output_type": "stream",
     "text": [
      "Hello World\n"
     ]
    }
   ],
   "source": [
    "println(\"Hello World\")"
   ]
  },
  {
   "cell_type": "code",
   "execution_count": 2,
   "id": "92270e4f-b2e1-4cea-8171-3233d2dbbe72",
   "metadata": {},
   "outputs": [
    {
     "name": "stdout",
     "output_type": "stream",
     "text": [
      "Hello World"
     ]
    }
   ],
   "source": [
    "print(\"Hello World\")\n"
   ]
  },
  {
   "cell_type": "code",
   "execution_count": 3,
   "id": "407e63ce-3439-47a4-9787-f9867c2b0f7e",
   "metadata": {},
   "outputs": [
    {
     "name": "stdout",
     "output_type": "stream",
     "text": [
      "Hello World\n"
     ]
    }
   ],
   "source": [
    "println(\"Hello World\")"
   ]
  },
  {
   "cell_type": "code",
   "execution_count": 4,
   "id": "00fc0b29-cfbe-4f26-b8a4-fee9ee0d0230",
   "metadata": {},
   "outputs": [
    {
     "data": {
      "text/plain": [
       "z: Int = 10\n"
      ]
     },
     "execution_count": 4,
     "metadata": {},
     "output_type": "execute_result"
    }
   ],
   "source": [
    "val z:Int = 10"
   ]
  },
  {
   "cell_type": "code",
   "execution_count": 7,
   "id": "cdbb0da2-055c-4c70-a569-a4c14cc6efa0",
   "metadata": {},
   "outputs": [
    {
     "name": "stdout",
     "output_type": "stream",
     "text": [
      "false"
     ]
    }
   ],
   "source": [
    "print(!true)\n"
   ]
  },
  {
   "cell_type": "code",
   "execution_count": 8,
   "id": "68031161-90a2-40d0-885a-437f70de144f",
   "metadata": {},
   "outputs": [
    {
     "data": {
      "text/plain": [
       "res5: String = scala strings are surrounded by double quotes\n"
      ]
     },
     "execution_count": 8,
     "metadata": {},
     "output_type": "execute_result"
    }
   ],
   "source": [
    "\"scala strings are surrounded by double quotes\""
   ]
  },
  {
   "cell_type": "code",
   "execution_count": 9,
   "id": "0ee2adf4-bd73-4333-a632-71e079c6735b",
   "metadata": {},
   "outputs": [
    {
     "data": {
      "text/plain": [
       "res6: Char = a\n"
      ]
     },
     "execution_count": 9,
     "metadata": {},
     "output_type": "execute_result"
    }
   ],
   "source": [
    "'a'//scala character"
   ]
  },
  {
   "cell_type": "code",
   "execution_count": 10,
   "id": "3dcc06b1-2f4c-4d6c-a5cf-640bad22e4af",
   "metadata": {},
   "outputs": [
    {
     "data": {
      "text/plain": [
       "res7: Int = 11\n"
      ]
     },
     "execution_count": 10,
     "metadata": {},
     "output_type": "execute_result"
    }
   ],
   "source": [
    "\"hello world\".length"
   ]
  },
  {
   "cell_type": "code",
   "execution_count": 11,
   "id": "7bab8122-e1b3-4c1c-84e0-c8306ba7771e",
   "metadata": {},
   "outputs": [
    {
     "data": {
      "text/plain": [
       "res8: String = hello\n"
      ]
     },
     "execution_count": 11,
     "metadata": {},
     "output_type": "execute_result"
    }
   ],
   "source": [
    "\"hello world\".take(5)"
   ]
  },
  {
   "cell_type": "code",
   "execution_count": 12,
   "id": "40a58cdd-1f50-49c9-80fd-3b22bad5e969",
   "metadata": {},
   "outputs": [
    {
     "data": {
      "text/plain": [
       "n: Int = 45\n",
       "res9: String = there are 45 apples\n"
      ]
     },
     "execution_count": 12,
     "metadata": {},
     "output_type": "execute_result"
    }
   ],
   "source": [
    "//string interpolation\n",
    "val n = 45\n",
    "s\"there are $n apples\""
   ]
  },
  {
   "cell_type": "code",
   "execution_count": 15,
   "id": "e1f2a353-d6ad-4751-890b-a8ced5de16a3",
   "metadata": {},
   "outputs": [
    {
     "data": {
      "text/plain": [
       "a: Array[Int] = Array(11, 9, 6)\n",
       "res11: String = my second daughter is 5 years old.\n"
      ]
     },
     "execution_count": 15,
     "metadata": {},
     "output_type": "execute_result"
    }
   ],
   "source": [
    "//expression inside interpolated strings are also possible\n",
    "val a = Array(11,9,6)\n",
    "s\"my second daughter is ${a(0) - a(2)} years old.\""
   ]
  },
  {
   "cell_type": "code",
   "execution_count": 16,
   "id": "e64dd0a5-e35c-40b2-b6bb-0e42e04c98b3",
   "metadata": {},
   "outputs": [
    {
     "data": {
      "text/plain": [
       "res12: String = power of 2: 4.0\n"
      ]
     },
     "execution_count": 16,
     "metadata": {},
     "output_type": "execute_result"
    }
   ],
   "source": [
    "s\"power of 2: ${math.pow(2,2)}\""
   ]
  },
  {
   "cell_type": "code",
   "execution_count": 18,
   "id": "21246be3-b081-4911-9cba-d50667bb08eb",
   "metadata": {},
   "outputs": [
    {
     "data": {
      "text/plain": [
       "res14: String = raw strings \\n ignoring special characters \\r.\n"
      ]
     },
     "execution_count": 18,
     "metadata": {},
     "output_type": "execute_result"
    }
   ],
   "source": [
    "raw\"raw strings \\n ignoring special characters \\r.\""
   ]
  },
  {
   "cell_type": "code",
   "execution_count": 21,
   "id": "b7f47f90-b839-46e1-9b5e-51bd936979af",
   "metadata": {},
   "outputs": [
    {
     "data": {
      "text/plain": [
       "res17: String = they stood outside the \"Rose and Crown\"\n"
      ]
     },
     "execution_count": 21,
     "metadata": {},
     "output_type": "execute_result"
    }
   ],
   "source": [
    "//some characters need to be escaped\n",
    "\"they stood outside the \\\"Rose and Crown\\\"\""
   ]
  },
  {
   "cell_type": "code",
   "execution_count": null,
   "id": "0df9a6b7-b6c0-45ff-8b84-3da580e093f0",
   "metadata": {},
   "outputs": [],
   "source": []
  },
  {
   "cell_type": "code",
   "execution_count": 24,
   "id": "0c7c6210-a1d1-40a9-9f72-32ebb54b05aa",
   "metadata": {},
   "outputs": [],
   "source": [
    "//functions are defined as\n",
    "//def function(args...): returnType = {body..}"
   ]
  },
  {
   "cell_type": "code",
   "execution_count": 26,
   "id": "51e91e9f-8a2b-4c86-a277-88f265804814",
   "metadata": {},
   "outputs": [
    {
     "data": {
      "text/plain": [
       "sumOfSquares: (x: Int, y: Int)Int\n"
      ]
     },
     "execution_count": 26,
     "metadata": {},
     "output_type": "execute_result"
    }
   ],
   "source": [
    "//last expression in the function block is the return value\n",
    "//you don't nned the return keyword\n",
    "def sumOfSquares(x: Int, y: Int): Int ={\n",
    "    val x2 = x*x\n",
    "    val y2 = y*y\n",
    "    x2+y2}"
   ]
  },
  {
   "cell_type": "code",
   "execution_count": 28,
   "id": "70dd1e63-6b36-4ab3-ab22-5647d2664d9c",
   "metadata": {},
   "outputs": [
    {
     "data": {
      "text/plain": [
       "sumOfSquaress: (x: Int, y: Int)Int\n"
      ]
     },
     "execution_count": 28,
     "metadata": {},
     "output_type": "execute_result"
    }
   ],
   "source": [
    "// {} can be ommitted if the function body is a single expression\n",
    "def sumOfSquaress(x: Int, y: Int): Int = x*x + y*y"
   ]
  },
  {
   "cell_type": "code",
   "execution_count": 29,
   "id": "7898b97f-475a-4371-b5e9-7bb9c7872860",
   "metadata": {},
   "outputs": [
    {
     "data": {
      "text/plain": [
       "res23: Int = 5\n"
      ]
     },
     "execution_count": 29,
     "metadata": {},
     "output_type": "execute_result"
    }
   ],
   "source": [
    "sumOfSquaress(1,2)"
   ]
  },
  {
   "cell_type": "code",
   "execution_count": 32,
   "id": "8f5e7e3b-f008-41ac-8e18-3482c772aba3",
   "metadata": {},
   "outputs": [
    {
     "data": {
      "text/plain": [
       "sq: (x: Int)Int\n"
      ]
     },
     "execution_count": 32,
     "metadata": {},
     "output_type": "execute_result"
    }
   ],
   "source": [
    "//return types can be ommitted in most cases\n",
    "def sq(x: Int) = x*x"
   ]
  },
  {
   "cell_type": "code",
   "execution_count": 37,
   "id": "2625a09f-1779-4cd4-b89c-8b21208731a9",
   "metadata": {},
   "outputs": [
    {
     "data": {
      "text/plain": [
       "res27: Int => Int = $Lambda$2070/643711364@7c79013a\n"
      ]
     },
     "execution_count": 37,
     "metadata": {},
     "output_type": "execute_result"
    }
   ],
   "source": [
    "//anonymous functions\n",
    "(x: Int) => x*x"
   ]
  },
  {
   "cell_type": "code",
   "execution_count": null,
   "id": "83ca7a91-0f02-42b0-afcb-cdfca4ee1cb5",
   "metadata": {},
   "outputs": [],
   "source": []
  }
 ],
 "metadata": {
  "kernelspec": {
   "display_name": "spylon-kernel",
   "language": "scala",
   "name": "spylon-kernel"
  },
  "language_info": {
   "codemirror_mode": "text/x-scala",
   "file_extension": ".scala",
   "help_links": [
    {
     "text": "MetaKernel Magics",
     "url": "https://metakernel.readthedocs.io/en/latest/source/README.html"
    }
   ],
   "mimetype": "text/x-scala",
   "name": "scala",
   "pygments_lexer": "scala",
   "version": "0.4.1"
  }
 },
 "nbformat": 4,
 "nbformat_minor": 5
}
